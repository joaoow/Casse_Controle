{
  "nbformat": 4,
  "nbformat_minor": 0,
  "metadata": {
    "colab": {
      "provenance": []
    },
    "kernelspec": {
      "name": "python3",
      "display_name": "Python 3"
    },
    "language_info": {
      "name": "python"
    }
  },
  "cells": [
    {
      "cell_type": "code",
      "execution_count": 5,
      "metadata": {
        "colab": {
          "base_uri": "https://localhost:8080/"
        },
        "id": "Okk0jbpKvgLw",
        "outputId": "57db0b2c-8fd3-4c71-cf6a-a724eeafbd29"
      },
      "outputs": [
        {
          "output_type": "stream",
          "name": "stdout",
          "text": [
            "preto\n",
            "10cm\n",
            "2cm\n",
            "3cm\n",
            "Aumentar o canal\n"
          ]
        }
      ],
      "source": [
        "class ControleRemoto:\n",
        "   def __init__(self, cor, altura, profundidade, largura):\n",
        "       self.cor = cor\n",
        "       self.altura = altura\n",
        "       self.profundidade = profundidade\n",
        "       self.largura = largura\n",
        "\n",
        "   def passar_canal(self, botao):\n",
        "       if botao == \"+\":\n",
        "          print('Aumentar o canal')\n",
        "       elif botao == \"-\":\n",
        "          print('Diminuir o canal')\n",
        "\n",
        "\n",
        "\n",
        "controle_remoto = ControleRemoto(\"preto\", \"10cm\", \"2cm\", \"3cm\")\n",
        "print(controle_remoto.cor)\n",
        "print(controle_remoto.altura)\n",
        "print(controle_remoto.profundidade)\n",
        "print(controle_remoto.largura)\n",
        "controle_remoto.passar_canal(\"+\") #aumentou o canal clicando no botao +\n",
        "\n",
        "\n"
      ]
    }
  ]
}